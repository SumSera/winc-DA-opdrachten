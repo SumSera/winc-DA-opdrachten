{
  "nbformat": 4,
  "nbformat_minor": 0,
  "metadata": {
    "kernelspec": {
      "display_name": "Python 3",
      "language": "python",
      "name": "python3"
    },
    "language_info": {
      "codemirror_mode": {
        "name": "ipython",
        "version": 3
      },
      "file_extension": ".py",
      "mimetype": "text/x-python",
      "name": "python",
      "nbconvert_exporter": "python",
      "pygments_lexer": "ipython3",
      "version": "3.9.2"
    },
    "colab": {
      "name": "describing-data.ipynb",
      "provenance": [],
      "collapsed_sections": [],
      "include_colab_link": true
    }
  },
  "cells": [
    {
      "cell_type": "markdown",
      "metadata": {
        "id": "view-in-github",
        "colab_type": "text"
      },
      "source": [
        "<a href=\"https://colab.research.google.com/github/SumSera/winc-DA-opdrachten/blob/main/describing_data.ipynb\" target=\"_parent\"><img src=\"https://colab.research.google.com/assets/colab-badge.svg\" alt=\"Open In Colab\"/></a>"
      ]
    },
    {
      "cell_type": "markdown",
      "metadata": {
        "id": "u83yDAw8hM0h"
      },
      "source": [
        "<img src=\"https://static.wincacademy.nl/logos/main-logo.png\" height=200px style=\"height: 200px\"/>\n",
        "\n",
        "# Describing Data"
      ]
    },
    {
      "cell_type": "code",
      "metadata": {
        "id": "gX4_NQS1hM0p"
      },
      "source": [
        "!pip install matplotlib --user > /dev/null 2>&1\n",
        "!pip install numpy --user > /dev/null 2>&1\n",
        "!pip install pandas --user > /dev/null 2>&1\n",
        "\n",
        "%matplotlib inline\n",
        "import numpy as np\n",
        "import matplotlib.pyplot as plt\n",
        "import pandas as pd"
      ],
      "execution_count": 1,
      "outputs": []
    },
    {
      "cell_type": "markdown",
      "metadata": {
        "id": "bsGvNd5nhM0q"
      },
      "source": [
        "Describing a dataset is surprisingly hard. Take this (simulated) data containing total income in 1980 for each of the 100.000 inhabitans of Fooville, for example."
      ]
    },
    {
      "cell_type": "code",
      "metadata": {
        "colab": {
          "base_uri": "https://localhost:8080/",
          "height": 419
        },
        "id": "ExLn8NjBhM0q",
        "outputId": "fb2ffe91-d2af-4964-f112-ceea1553890a"
      },
      "source": [
        "income_samples = np.round(np.hstack([np.random.normal(2.5e4, 5e3, int(7e4)),\n",
        "                                     np.random.normal(5.5e4, 4e3, int(2e4)),\n",
        "                                     np.random.normal(9e4, 2e3, int(1e4))]),\n",
        "                          2)\n",
        "income_samples[income_samples < 0] = - income_samples[income_samples < 0]\n",
        "np.random.shuffle(income_samples)\n",
        "\n",
        "pd.DataFrame(income_samples, columns=['Income'])"
      ],
      "execution_count": 2,
      "outputs": [
        {
          "output_type": "execute_result",
          "data": {
            "text/html": [
              "<div>\n",
              "<style scoped>\n",
              "    .dataframe tbody tr th:only-of-type {\n",
              "        vertical-align: middle;\n",
              "    }\n",
              "\n",
              "    .dataframe tbody tr th {\n",
              "        vertical-align: top;\n",
              "    }\n",
              "\n",
              "    .dataframe thead th {\n",
              "        text-align: right;\n",
              "    }\n",
              "</style>\n",
              "<table border=\"1\" class=\"dataframe\">\n",
              "  <thead>\n",
              "    <tr style=\"text-align: right;\">\n",
              "      <th></th>\n",
              "      <th>Income</th>\n",
              "    </tr>\n",
              "  </thead>\n",
              "  <tbody>\n",
              "    <tr>\n",
              "      <th>0</th>\n",
              "      <td>54036.52</td>\n",
              "    </tr>\n",
              "    <tr>\n",
              "      <th>1</th>\n",
              "      <td>23910.70</td>\n",
              "    </tr>\n",
              "    <tr>\n",
              "      <th>2</th>\n",
              "      <td>26226.84</td>\n",
              "    </tr>\n",
              "    <tr>\n",
              "      <th>3</th>\n",
              "      <td>25482.60</td>\n",
              "    </tr>\n",
              "    <tr>\n",
              "      <th>4</th>\n",
              "      <td>64477.29</td>\n",
              "    </tr>\n",
              "    <tr>\n",
              "      <th>...</th>\n",
              "      <td>...</td>\n",
              "    </tr>\n",
              "    <tr>\n",
              "      <th>99995</th>\n",
              "      <td>47177.22</td>\n",
              "    </tr>\n",
              "    <tr>\n",
              "      <th>99996</th>\n",
              "      <td>29116.93</td>\n",
              "    </tr>\n",
              "    <tr>\n",
              "      <th>99997</th>\n",
              "      <td>24248.84</td>\n",
              "    </tr>\n",
              "    <tr>\n",
              "      <th>99998</th>\n",
              "      <td>24924.66</td>\n",
              "    </tr>\n",
              "    <tr>\n",
              "      <th>99999</th>\n",
              "      <td>60706.02</td>\n",
              "    </tr>\n",
              "  </tbody>\n",
              "</table>\n",
              "<p>100000 rows × 1 columns</p>\n",
              "</div>"
            ],
            "text/plain": [
              "         Income\n",
              "0      54036.52\n",
              "1      23910.70\n",
              "2      26226.84\n",
              "3      25482.60\n",
              "4      64477.29\n",
              "...         ...\n",
              "99995  47177.22\n",
              "99996  29116.93\n",
              "99997  24248.84\n",
              "99998  24924.66\n",
              "99999  60706.02\n",
              "\n",
              "[100000 rows x 1 columns]"
            ]
          },
          "metadata": {
            "tags": []
          },
          "execution_count": 2
        }
      ]
    },
    {
      "cell_type": "markdown",
      "metadata": {
        "id": "lhsT8OD5hM0s"
      },
      "source": [
        "These are 100k datapoints. It's impossible to look at them all one by one. How are we going to interpret that large bag of unsorted data?\n",
        "\n",
        "## Mean\n",
        "\n",
        "One measure we should take a look at is the average, the **mean** of the data. The mean is calculated like so:\n",
        "\n",
        "1. Sum up all the values\n",
        "2. Divide them by the number of datapoints\n",
        "\n",
        "Let's apply this to our data from the inhabitants of Fooville."
      ]
    },
    {
      "cell_type": "code",
      "metadata": {
        "colab": {
          "base_uri": "https://localhost:8080/"
        },
        "id": "FRKJSoBAhM0t",
        "outputId": "c0c08de7-5b05-4bdf-a0fd-ca032e37ffae"
      },
      "source": [
        "income_samples_mean = np.mean(income_samples)\n",
        "print(f'The mean income in Fooville is {income_samples_mean:.2f}')"
      ],
      "execution_count": 3,
      "outputs": [
        {
          "output_type": "stream",
          "text": [
            "The mean income in Fooville is 37492.32\n"
          ],
          "name": "stdout"
        }
      ]
    },
    {
      "cell_type": "markdown",
      "metadata": {
        "id": "gCT6aO0ohM0t"
      },
      "source": [
        "**1. What is the mean of this list of numbers? [1, 9, 19, 100]**\n",
        "\n",
        "*129/4= 32,25*"
      ]
    },
    {
      "cell_type": "markdown",
      "metadata": {
        "id": "Egbr8xU6hM0t"
      },
      "source": [
        "You, like me, might now be tempted to believe the data looks something like this."
      ]
    },
    {
      "cell_type": "code",
      "metadata": {
        "colab": {
          "base_uri": "https://localhost:8080/",
          "height": 282
        },
        "id": "Vm2qv9WRhM0u",
        "outputId": "af1be7f1-c716-439f-dd3a-53a44a2391c5"
      },
      "source": [
        "fig, ax = plt.subplots()\n",
        "bin_vals, _, _ = ax.hist([np.random.normal(3.7e4, 5e3, int(10e4))], 100)\n",
        "ax.axvline(3.7e4, label='mean', color='orange')\n",
        "ax.set_xlabel('Income')\n",
        "ax.set_ylabel('Number of people')\n",
        "ax.legend();"
      ],
      "execution_count": 10,
      "outputs": [
        {
          "output_type": "display_data",
          "data": {
            "image/png": "[encoded data removed]",
            "text/plain": [
              "<Figure size 432x288 with 1 Axes>"
            ]
          },
          "metadata": {
            "tags": [],
            "needs_background": "light"
          }
        }
      ]
    },
    {
      "cell_type": "markdown",
      "metadata": {
        "id": "yfHqpfmWhM0u"
      },
      "source": [
        "**2. Explain how we should read this plot in your own words. Discuss specifically why the edge of the plot is not smooth. Hint: it's called a histogram.**\n",
        "\n",
        "*The histogram plots values in ranges of income, this explains the jaggedness of the edge. narrowing the band (range) makes the histogram more accurate, but even less smooth*\n",
        "\n",
        "**3. Why did we choose to draw the mean as a line, and not as a dot?**\n",
        "\n",
        "*Because it is (sort of) true for all the values on the y-axis.*\n",
        "\n",
        "**4. How realistic is it that this plot reflects the true situation, given the type of data we are looking at?**\n",
        "\n",
        "*It is an extreme approximantion, limited by the width of the range.*"
      ]
    },
    {
      "cell_type": "markdown",
      "metadata": {
        "id": "3DGixZnhhM0v"
      },
      "source": [
        "Let's take a look at the *real* histogram now."
      ]
    },
    {
      "cell_type": "code",
      "metadata": {
        "id": "MIdTJZmthM0v",
        "outputId": "8b9730e1-5ae3-409b-da4e-cf833301adda"
      },
      "source": [
        "fig, ax = plt.subplots()\n",
        "ax.set_title('Histogram')\n",
        "ax.hist(income_samples, bins=50)\n",
        "ax.axvline(income_samples_mean, color='orange', label='mean')\n",
        "ax.set_xlabel('Income')\n",
        "ax.set_ylabel('Number of people')\n",
        "ax.set_xlim([0, 1e5])\n",
        "ax.legend();"
      ],
      "execution_count": null,
      "outputs": [
        {
          "output_type": "display_data",
          "data": {
            "image/png": "[encoded data removed]",
            "text/plain": [
              "<Figure size 432x288 with 1 Axes>"
            ]
          },
          "metadata": {
            "tags": [],
            "needs_background": "light"
          }
        }
      ]
    },
    {
      "cell_type": "markdown",
      "metadata": {
        "id": "xwcpSSfVhM0v"
      },
      "source": [
        "**5. Why is the mean not located at a peak in the histogram?**\n",
        "\n",
        "*Because there are multiple peaks, meaning that the mean is to the right of the large peak.*\n",
        "\n",
        "**6. How can the two plots look so different, even though their mean is the same?**\n",
        "\n",
        "*The data is sampled more accurately, but I don't understand exactly how right now... Somthing to do wth the 'bins'*\n",
        "\n",
        "**7. How much useful information does the mean give about the data here, in your opinion? Explain why.**\n",
        "\n",
        "*The plot itself gives more useful info than the mean, because very little people actually have a mean income, according to this plot.*"
      ]
    },
    {
      "cell_type": "markdown",
      "metadata": {
        "id": "aKQX0urwhM0w"
      },
      "source": [
        "## Median\n"
      ]
    },
    {
      "cell_type": "markdown",
      "metadata": {
        "id": "VCnIVyZghM0w"
      },
      "source": [
        "An alternative measure that may be more useful is the **median**. The median is the middle value in a sorted list of all the data. Here's how to find the median:\n",
        "\n",
        "1. Sort the data.\n",
        "2. Find the middle number. If there are an even number of datapoints, take the mean of the middle two."
      ]
    },
    {
      "cell_type": "code",
      "metadata": {
        "colab": {
          "base_uri": "https://localhost:8080/"
        },
        "id": "RgqzsK9khM0w",
        "outputId": "948b0ec9-ddbc-44fd-8b0e-dad332c7b9d6"
      },
      "source": [
        "income_samples_median = np.median(income_samples)\n",
        "print(f'The median income in Fooville is {income_samples_median:.2f}')"
      ],
      "execution_count": 20,
      "outputs": [
        {
          "output_type": "stream",
          "text": [
            "The median income in Fooville is 27806.00\n"
          ],
          "name": "stdout"
        }
      ]
    },
    {
      "cell_type": "markdown",
      "metadata": {
        "id": "UAtfEcNBhM0x"
      },
      "source": [
        "Let's visualize where it is exactly on our histogram."
      ]
    },
    {
      "cell_type": "code",
      "metadata": {
        "colab": {
          "base_uri": "https://localhost:8080/",
          "height": 295
        },
        "id": "62QFk6PShM0x",
        "outputId": "b5ec5fcd-d0ec-4ac2-9958-1b378486f387"
      },
      "source": [
        "fig, ax = plt.subplots()\n",
        "ax.set_title('Histogram')\n",
        "ax.hist(income_samples, bins=50)\n",
        "ax.axvline(income_samples_mean, color='orange', label='mean')\n",
        "ax.axvline(income_samples_median, color='green', label='median')\n",
        "ax.set_xlabel('Income')\n",
        "ax.set_ylabel('Number of people')\n",
        "ax.set_xlim([0, 1e5])\n",
        "ax.legend();"
      ],
      "execution_count": 21,
      "outputs": [
        {
          "output_type": "display_data",
          "data": {
            "image/png": "[encoded data removed]",
            "text/plain": [
              "<Figure size 432x288 with 1 Axes>"
            ]
          },
          "metadata": {
            "tags": [],
            "needs_background": "light"
          }
        }
      ]
    },
    {
      "cell_type": "markdown",
      "metadata": {
        "id": "RcbexNEShM0y"
      },
      "source": [
        "**8. Is the median more informative about this dataset, in your opinion? Why? Consider the type of data that you're looking at.**\n",
        "\n",
        "*Yes, a little. It seems a more realistic number visually*\n",
        "\n",
        "**9. How many people in Fooville have an income below the median? How many have an income above the median?**\n",
        "\n",
        "*The sum of the values in the columns to the left of the median. Above median is the total number of people in the sum of the values in the columns to the right of the median.*\n",
        "\n",
        "**10. Which way does the median move if we mirror the data like we did in the bottom plot below? Which way does the mean move? Finally: which one moves more? Explain your answers.**\n",
        "\n",
        "*Both the median and the mean move to the right, the median moves further right than the mean. They are mirrored the same way as the data.*"
      ]
    },
    {
      "cell_type": "code",
      "metadata": {
        "colab": {
          "base_uri": "https://localhost:8080/",
          "height": 567
        },
        "id": "tgqlYv7yhM0y",
        "outputId": "619fbc79-fbff-4000-d404-e5be2cddf425"
      },
      "source": [
        "mirrored_income_samples = 0 - income_samples + 1e5\n",
        "mirrored_income_samples_mean = 0 - income_samples_mean + 1e5\n",
        "mirrored_income_samples_median = 0 - income_samples_median+ 1e5\n",
        "\n",
        "fig, axs = plt.subplots(2, 1, figsize=(16,9))\n",
        "axs[0].set_title('Real histogram', loc='left')\n",
        "axs[0].hist(income_samples, bins=50)\n",
        "axs[0].axvline(income_samples_mean, color='orange', label='mean')\n",
        "axs[0].axvline(income_samples_median, color='green', label='median')\n",
        "axs[0].set_xlabel('Income')\n",
        "axs[0].set_ylabel('Number of people')\n",
        "axs[0].set_xlim([0, 1e5])\n",
        "axs[0].legend();\n",
        "\n",
        "axs[1].set_title('Mirrored histogram', loc='left')\n",
        "axs[1].hist(mirrored_income_samples, bins=50)\n",
        "axs[1].axvline(mirrored_income_samples_mean, color='orange', label='gemiddelde')\n",
        "axs[1].axvline(mirrored_income_samples_median, color='green', label='mediaan')\n",
        "axs[1].set_xlabel('Income')\n",
        "axs[1].set_ylabel('Number of people')\n",
        "axs[1].set_xlim([0, 1e5]);\n",
        "axs[1].legend();"
      ],
      "execution_count": 28,
      "outputs": [
        {
          "output_type": "display_data",
          "data": {
            "image/png": "[encoded data removed]",
            "text/plain": [
              "<Figure size 1152x648 with 2 Axes>"
            ]
          },
          "metadata": {
            "tags": [],
            "needs_background": "light"
          }
        }
      ]
    },
    {
      "cell_type": "markdown",
      "metadata": {
        "id": "6UvO2_oChM0y"
      },
      "source": [
        "## Mode and binning\n",
        "\n",
        "A third number that gives some information about data is distributed is the **mode**. This is the value that occurs most frequently out of all the values.\n",
        "\n",
        "Let's count how often each number occurs in our (non-mirrored) dataset and see which one occurs most often."
      ]
    },
    {
      "cell_type": "code",
      "metadata": {
        "id": "cyWP8ar4hM0z",
        "outputId": "c1942b2c-4317-44d1-ac77-c2d418dafc3f"
      },
      "source": [
        "unique, frequency = np.unique(income_samples, return_counts = True)\n",
        "income_samples_mode_freq = np.max(frequency)\n",
        "income_samples_mode = unique[np.argmax(frequency)]\n",
        "print(f'The mode of the income data from Fooville is {income_samples_mode:.2f}.\\n'\n",
        "      f'It occurs {income_samples_mode_freq} times.')\n",
        "\n",
        "fig, ax = plt.subplots()\n",
        "ax.set_title('Histogram')\n",
        "ax.hist(income_samples, bins=50)\n",
        "ax.axvline(income_samples_mean, color='orange', label='mean')\n",
        "ax.axvline(income_samples_median, color='green', label='median')\n",
        "ax.axvline(income_samples_mode, color='purple', label='mode?')\n",
        "ax.set_xlabel('Income')\n",
        "ax.set_ylabel('Number of people')\n",
        "ax.set_xlim([0, 1e5])\n",
        "ax.legend();"
      ],
      "execution_count": null,
      "outputs": [
        {
          "output_type": "stream",
          "text": [
            "The mode of the income data from Fooville is 18039.02.\n",
            "It occurs 3 times.\n"
          ],
          "name": "stdout"
        },
        {
          "output_type": "display_data",
          "data": {
            "image/png": "[encoded data removed]",
            "text/plain": [
              "<Figure size 432x288 with 1 Axes>"
            ]
          },
          "metadata": {
            "tags": [],
            "needs_background": "light"
          }
        }
      ]
    },
    {
      "cell_type": "markdown",
      "metadata": {
        "id": "p7rFeP7OhM0z"
      },
      "source": [
        "Hm! This does not match with what we learn from our histogram.\n",
        "\n",
        "**11. What level of income would you have expected to be the mode?**\n",
        "\n",
        "*Somewhat below the mean, near the largest peak.*\n",
        "\n",
        "**12. What is the problem that caused us to land on a strange value for the mode?**\n",
        "\n",
        "*probably because the mode is a single value, not a range.*\n",
        "\n",
        "The problem that we have can be solved by *binning* the numbers in our data. Here's how that works:\n",
        "\n",
        "1. Choose a number of *bins*. Think of these like buckets.\n",
        "2. Divide the area between the minimum and maximum values of the data into smaller areas according to the number of bins.\n",
        "3. Look at each datapoint and put it in the bin that it belongs to.\n",
        "4. Count how many datapoints are in each bin.\n",
        "5. Let each bin be represented by the middle value of the bin.\n",
        "\n",
        "Let's do this and find the mode again."
      ]
    },
    {
      "cell_type": "code",
      "metadata": {
        "colab": {
          "base_uri": "https://localhost:8080/",
          "height": 329
        },
        "id": "3rKMmwIahM00",
        "outputId": "2d442056-de91-45ce-8731-24e160c77043"
      },
      "source": [
        "# PLAY AROUND WITH THIS VALUE\n",
        "bins = 100\n",
        "# DON'T MODIFY THE LINES BELOW\n",
        "\n",
        "hist, bin_edges = np.histogram(income_samples, bins=bins)\n",
        "income_samples_mode_freq = np.max(hist)\n",
        "mode_bin_index = np.argmax(hist)\n",
        "income_samples_mode = np.mean(bin_edges[mode_bin_index:mode_bin_index+2])\n",
        "print(f'The mode of the income data from Fooville is {income_samples_mode:.2f}.\\n'\n",
        "      f'It occurs {income_samples_mode_freq} times.')\n",
        "fig, ax = plt.subplots()\n",
        "ax.set_title('Histogram')\n",
        "ax.hist(income_samples, bins=bins)\n",
        "ax.axvline(income_samples_mean, color='orange', label='mean')\n",
        "ax.axvline(income_samples_median, color='green', label='median')\n",
        "ax.axvline(income_samples_mode, color='purple', label='mode')\n",
        "ax.set_xlabel('Income')\n",
        "ax.set_ylabel('Number of people')\n",
        "ax.set_xlim([0, 1e5])\n",
        "ax.legend();"
      ],
      "execution_count": 33,
      "outputs": [
        {
          "output_type": "stream",
          "text": [
            "The mode of the income data from Fooville is 24626.18.\n",
            "It occurs 5422 times.\n"
          ],
          "name": "stdout"
        },
        {
          "output_type": "display_data",
          "data": {
            "image/png": "[encoded data removed]",
            "text/plain": [
              "<Figure size 432x288 with 1 Axes>"
            ]
          },
          "metadata": {
            "tags": [],
            "needs_background": "light"
          }
        }
      ]
    },
    {
      "cell_type": "markdown",
      "metadata": {
        "id": "qkxrC3zIhM00"
      },
      "source": [
        "**13. How did binning solve the problem you described in your answer to question 12?**\n",
        "\n",
        "*the mode is a range of incomes now in which a realistic number of people belong. The mode now is in the middle of the highest peak, as expected. *\n",
        "\n",
        "**14. Would a bin count of 3 suffice? What about 100? What is the consideration in choosing a higher or lower bin count? And what is the downside of going too far in either direction?**\n",
        "\n",
        "*lower bin counts make the results more general and less specific. Higher bin counts make the value more precise, and perhaps too specific. Either way it may not serve its purpose.*"
      ]
    },
    {
      "cell_type": "markdown",
      "metadata": {
        "id": "cp72C74qhM01"
      },
      "source": [
        "## Quartiles and Boxplots\n",
        "\n",
        "Finally, we will describe our data with a few extra measures:\n",
        "\n",
        "- The min; the lowest value in the dataset.\n",
        "- The max; the highest value in the dataset.\n",
        "- The first quartile; the median of the lower half of the dataset. You find this value by sorting the data and selecting the middle of the lower half.\n",
        "- The third quartile; the median of the upper half of the dataset. You find this value by sorting the data and selecting the middle of the upper half.\n",
        "\n",
        "Together with the median, this is called the *five-number summary*. It is common to visualize these numbers in a type of plot that's called a *boxplot*. Here it is for the Fooville data."
      ]
    },
    {
      "cell_type": "code",
      "metadata": {
        "id": "QDrzd9QDhM02",
        "outputId": "7d9f4a74-4225-4f5f-a2c9-7a9cdf396913"
      },
      "source": [
        "fig, ax = plt.subplots()\n",
        "ax.boxplot(income_samples, whis=(0,100))\n",
        "sorted_income_samples = np.sort(income_samples)\n",
        "minimum = np.min(income_samples)\n",
        "maximum = np.max(income_samples)\n",
        "first_quartile = sorted_income_samples[int(sorted_income_samples.shape[0] / 4)]\n",
        "third_quartile = sorted_income_samples[int(3 * sorted_income_samples.shape[0] / 4)]\n",
        "ax.annotate('min', (1, minimum), fontsize='x-large', xytext=(35, 0), textcoords='offset points', arrowprops={'arrowstyle':'fancy'})\n",
        "ax.annotate('max', (1, maximum), fontsize='x-large', xytext=(35, -10), textcoords='offset points', arrowprops={'arrowstyle':'fancy'})\n",
        "ax.annotate('median', (1, income_samples_median), fontsize='x-large', xytext=(35, 0), textcoords='offset points', arrowprops={'arrowstyle':'fancy'})\n",
        "ax.annotate('first quartile', (1, first_quartile), fontsize='x-large', xytext=(35, -10), textcoords='offset points', arrowprops={'arrowstyle':'fancy'})\n",
        "ax.annotate('third quartile', (1, third_quartile), fontsize='x-large', xytext=(35, 0), textcoords='offset points', arrowprops={'arrowstyle':'fancy'})\n",
        "ax.set_ylabel('Income')\n",
        "ax.set_xticks([])\n",
        "\n",
        "print(f'The minimum is at {minimum}')\n",
        "print(f'The first quartile is at {first_quartile}')\n",
        "print(f'The third quartile is at {third_quartile}')\n",
        "print(f'The maximum is at {maximum}')"
      ],
      "execution_count": null,
      "outputs": [
        {
          "output_type": "stream",
          "text": [
            "The minimum is at 1823.86\n",
            "The first quartile is at 23198.07\n",
            "The third quartile is at 52293.45\n",
            "The maximum is at 99107.38\n"
          ],
          "name": "stdout"
        },
        {
          "output_type": "display_data",
          "data": {
            "image/png": "[encoded data removed]",
            "text/plain": [
              "<Figure size 432x288 with 1 Axes>"
            ]
          },
          "metadata": {
            "tags": [],
            "needs_background": "light"
          }
        }
      ]
    },
    {
      "cell_type": "markdown",
      "metadata": {
        "id": "0sj1czbnhM02"
      },
      "source": [
        "Here is the boxplot again without our annotations."
      ]
    },
    {
      "cell_type": "code",
      "metadata": {
        "id": "U7YBstichM03",
        "outputId": "7609a416-e01e-4caa-9b26-cc9d0403a693"
      },
      "source": [
        "fig, ax = plt.subplots()\n",
        "ax.boxplot(income_samples, whis=(0,100))\n",
        "ax.set_ylabel('Income')\n",
        "ax.set_xticks([]);"
      ],
      "execution_count": null,
      "outputs": [
        {
          "output_type": "display_data",
          "data": {
            "image/png": "[encoded data removed]",
            "text/plain": [
              "<Figure size 432x288 with 1 Axes>"
            ]
          },
          "metadata": {
            "tags": [],
            "needs_background": "light"
          }
        }
      ]
    },
    {
      "cell_type": "markdown",
      "metadata": {
        "id": "4qZGfGw_hM03"
      },
      "source": [
        "**15. How many inhabitants of Fooville have an income above the first quartile?**\n",
        "\n",
        "*cannot accurately be measured/written fom this boxplot.*\n",
        "\n",
        "**16. How many inhabitants of Fooville have an income between the first and third quartile?**\n",
        "\n",
        "*cannot accurately be measured/written fom this boxplot. It gives an idea of the spread.*\n",
        "\n",
        "**17. Which of the following statements are correct? (type an `x` in those boxes)**\n",
        "\n",
        "*TODO: Fill in the right boxes.*\n",
        "\n",
        "   - [ ] \"25% of all Fooville inhabitants have an income above 20.000\"\n",
        "   - [x] \"50% of all Fooville inhabitants have an income between around 23.000 and around 52.000\"\n",
        "   - [ ] \"There are no Fooville inhabitants with an income above 98.000.\"\n",
        "\n",
        "**18. Does the mean always fall between the first and third quartile? Explain your answer.**\n",
        "\n",
        "*Yes, because the quartiles are sorted.*\n",
        "\n",
        "**19. Do you think a boxplot is a nice summary of the Fooville income data? Why? How does it compare to the histogram?**\n",
        "\n",
        "*Yes, but I find it still a bit hard to read in terms of numbers of people.*"
      ]
    },
    {
      "cell_type": "markdown",
      "metadata": {
        "id": "8Rw6RhAPhM04"
      },
      "source": [
        "That's it for this lesson! You now have an intuitive understanding of:\n",
        "\n",
        "- The mean\n",
        "- The median\n",
        "- The mode\n",
        "- Binning\n",
        "- Histograms\n",
        "- The minimum and maximum\n",
        "- The first and third quartile\n",
        "- Boxplots\n",
        "\n",
        "Congratulations! That's a lot of material to work through."
      ]
    }
  ]
}